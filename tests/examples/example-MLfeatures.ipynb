{
 "cells": [
  {
   "cell_type": "code",
   "execution_count": 1,
   "id": "d997edab-47b5-4e7f-bbb2-ed7918fdba05",
   "metadata": {
    "scrolled": true
   },
   "outputs": [
    {
     "name": "stdout",
     "output_type": "stream",
     "text": [
      "Using device: cuda\n"
     ]
    },
    {
     "name": "stderr",
     "output_type": "stream",
     "text": [
      "2025-02-03 15:20:40.494070: E external/local_xla/xla/stream_executor/cuda/cuda_fft.cc:477] Unable to register cuFFT factory: Attempting to register factory for plugin cuFFT when one has already been registered\n",
      "WARNING: All log messages before absl::InitializeLog() is called are written to STDERR\n",
      "E0000 00:00:1738563640.561396   14880 cuda_dnn.cc:8310] Unable to register cuDNN factory: Attempting to register factory for plugin cuDNN when one has already been registered\n",
      "E0000 00:00:1738563640.573362   14880 cuda_blas.cc:1418] Unable to register cuBLAS factory: Attempting to register factory for plugin cuBLAS when one has already been registered\n",
      "2025-02-03 15:20:40.629260: I tensorflow/core/platform/cpu_feature_guard.cc:210] This TensorFlow binary is optimized to use available CPU instructions in performance-critical operations.\n",
      "To enable the following instructions: AVX2 FMA, in other operations, rebuild TensorFlow with the appropriate compiler flags.\n"
     ]
    },
    {
     "name": "stdout",
     "output_type": "stream",
     "text": [
      "Detected IPython. Loading juliacall extension. See https://juliapy.github.io/PythonCall.jl/stable/compat/#IPython\n"
     ]
    }
   ],
   "source": [
    "from CoREMOF.prediction import cp, stability"
   ]
  },
  {
   "cell_type": "markdown",
   "id": "b2352f8b-dabb-41aa-847e-1f11ad1117ee",
   "metadata": {},
   "source": [
    "### heat capacity prediction"
   ]
  },
  {
   "cell_type": "code",
   "execution_count": 3,
   "id": "eabc6676-51e7-415d-92f7-a77ce575e9f1",
   "metadata": {},
   "outputs": [
    {
     "name": "stdout",
     "output_type": "stream",
     "text": [
      "site elemental properties\n",
      "AGNI\n",
      "GSF\n",
      "LPD\n",
      "loading models for: 300\n",
      "100 models loaded, predicting...\n",
      "0000[Co][nan]2[ASR]1.cif\n",
      "loading models for: 350\n",
      "100 models loaded, predicting...\n",
      "0000[Co][nan]2[ASR]1.cif\n",
      "loading models for: 400\n",
      "100 models loaded, predicting...\n",
      "0000[Co][nan]2[ASR]1.cif\n",
      "{'unit': ('J/g/K', 'J/mol/K'), '300_mean': [0.8717641451795086, 8.068061983291416], '300_std': [0.0577264549708278, 0.5342507137459955], '350_mean': [1.0383900043749352, 9.610162294988765], '350_std': [0.0740089771791215, 0.6849433054833877], '400_mean': [1.1158641535744225, 10.32717530969071], '400_std': [0.086027626215228, 0.7961743143691291]}\n"
     ]
    }
   ],
   "source": [
    "result_cp = cp(structure=\"CoREMOF2024DB/CR/0000[Co][nan]2[ASR]1.cif\", T=[300, 350, 400])\n",
    "print(result_cp)"
   ]
  },
  {
   "cell_type": "markdown",
   "id": "f28f944a-b7d3-4029-98ee-da245a3d9bb5",
   "metadata": {},
   "source": [
    "### stability prediction"
   ]
  },
  {
   "cell_type": "code",
   "execution_count": 2,
   "id": "922b55e1-524f-4a75-b599-c9dfc3d5c65a",
   "metadata": {},
   "outputs": [
    {
     "name": "stderr",
     "output_type": "stream",
     "text": [
      "WARNING:absl:Compiled the loaded model, but the compiled metrics have yet to be built. `model.compile_metrics` will be empty until you train or evaluate the model.\n",
      "WARNING:absl:Error in loading the saved optimizer state. As a result, your model is starting with a freshly initialized optimizer.\n",
      "WARNING:absl:Compiled the loaded model, but the compiled metrics have yet to be built. `model.compile_metrics` will be empty until you train or evaluate the model.\n",
      "WARNING:absl:Error in loading the saved optimizer state. As a result, your model is starting with a freshly initialized optimizer.\n"
     ]
    },
    {
     "name": "stdout",
     "output_type": "stream",
     "text": [
      "('cell vectors: ', 'alpha, beta, gamma = 77.8648, 77.8648, 63.1728')\n",
      "176 176\n",
      "\u001b[1m1/1\u001b[0m \u001b[32m━━━━━━━━━━━━━━━━━━━━\u001b[0m\u001b[37m\u001b[0m \u001b[1m0s\u001b[0m 430ms/step\n",
      "\u001b[1m1/1\u001b[0m \u001b[32m━━━━━━━━━━━━━━━━━━━━\u001b[0m\u001b[37m\u001b[0m \u001b[1m0s\u001b[0m 213ms/step\n"
     ]
    },
    {
     "name": "stderr",
     "output_type": "stream",
     "text": [
      "I0000 00:00:1738563652.019447   14880 gpu_device.cc:2022] Created device /job:localhost/replica:0/task:0/device:GPU:0 with 4080 MB memory:  -> device: 0, name: NVIDIA GeForce GTX 1660 Ti, pci bus id: 0000:01:00.0, compute capability: 7.5\n",
      "==============================\n",
      "*** Open Babel Warning  in PerceiveBondOrders\n",
      "  Failed to kekulize aromatic bonds in OBMol::PerceiveBondOrders (title is 0000[Co][nan]2[ASR]1)\n",
      "\n",
      "WARNING: All log messages before absl::InitializeLog() is called are written to STDERR\n",
      "I0000 00:00:1738563661.527557   14982 service.cc:148] XLA service 0x7fe2e0004d80 initialized for platform CUDA (this does not guarantee that XLA will be used). Devices:\n",
      "I0000 00:00:1738563661.527612   14982 service.cc:156]   StreamExecutor device (0): NVIDIA GeForce GTX 1660 Ti, Compute Capability 7.5\n",
      "2025-02-03 15:21:01.534396: I tensorflow/compiler/mlir/tensorflow/utils/dump_mlir_util.cc:268] disabling MLIR crash reproducer, set env var `MLIR_CRASH_REPRODUCER_DIRECTORY` to enable.\n",
      "I0000 00:00:1738563661.579252   14982 cuda_dnn.cc:529] Loaded cuDNN version 90300\n",
      "I0000 00:00:1738563661.837506   14982 device_compiler.h:188] Compiled cluster using XLA!  This line is logged at most once for the lifetime of the process.\n"
     ]
    },
    {
     "name": "stdout",
     "output_type": "stream",
     "text": [
      "{'unit': 'nan, °C, nan', 'solvent removal probability': 0.8224999308586121, 'thermal stability': 498.8999938964844, 'water probability': 0.87}\n"
     ]
    }
   ],
   "source": [
    "result_s = stability(structure=\"CoREMOF2024DB/CR/0000[Co][nan]2[ASR]1.cif\")\n",
    "print(result_s)"
   ]
  },
  {
   "cell_type": "code",
   "execution_count": null,
   "id": "3aae9d9f-fdf4-4a43-851f-7c38f97e2f19",
   "metadata": {},
   "outputs": [],
   "source": []
  }
 ],
 "metadata": {
  "kernelspec": {
   "display_name": "Python 3 (ipykernel)",
   "language": "python",
   "name": "python3"
  },
  "language_info": {
   "codemirror_mode": {
    "name": "ipython",
    "version": 3
   },
   "file_extension": ".py",
   "mimetype": "text/x-python",
   "name": "python",
   "nbconvert_exporter": "python",
   "pygments_lexer": "ipython3",
   "version": "3.9.21"
  }
 },
 "nbformat": 4,
 "nbformat_minor": 5
}
