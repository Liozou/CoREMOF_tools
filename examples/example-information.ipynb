{
 "cells": [
  {
   "cell_type": "code",
   "execution_count": 1,
   "id": "d946b771-8218-434f-bd70-f6941348b209",
   "metadata": {},
   "outputs": [
    {
     "name": "stdout",
     "output_type": "stream",
     "text": [
      "You need to install CSD software with the license if you want to download all structures\n",
      "Downloaded data/detail_of_CR.json to /home/sxm/miniconda3/envs/coremof_tools/lib/python3.9/site-packages/CoREMOF/data/detail_of_CR.json\n",
      "Downloaded data/detail_of_NCR.json to /home/sxm/miniconda3/envs/coremof_tools/lib/python3.9/site-packages/CoREMOF/data/detail_of_NCR.json\n",
      "Downloaded data/CSD/CR_CSD_REFCODE.json to /home/sxm/miniconda3/envs/coremof_tools/lib/python3.9/site-packages/CoREMOF/data/CSD/CR_CSD_REFCODE.json\n",
      "Downloaded data/CSD/NCR_CSD_REFCODE.json to /home/sxm/miniconda3/envs/coremof_tools/lib/python3.9/site-packages/CoREMOF/data/CSD/NCR_CSD_REFCODE.json\n",
      "Downloaded data/SI/CR.zip to /home/sxm/miniconda3/envs/coremof_tools/lib/python3.9/site-packages/CoREMOF/data/SI/CR.zip\n",
      "Downloaded data/SI/NCR.zip to /home/sxm/miniconda3/envs/coremof_tools/lib/python3.9/site-packages/CoREMOF/data/SI/NCR.zip\n"
     ]
    }
   ],
   "source": [
    "from CoREMOF.structure import information"
   ]
  },
  {
   "cell_type": "markdown",
   "id": "81e28cb3-f491-4ff0-a095-731664ffddd4",
   "metadata": {},
   "source": [
    "- dataset: CR-ASR, CR-FSR, CR-Ion, NCR\n",
    "- entry:\n",
    " - CR: CoRE ID\n",
    " - NCR: REFCODE"
   ]
  },
  {
   "cell_type": "markdown",
   "id": "e5242336-281b-4502-aa8d-933d4a5f3c2c",
   "metadata": {},
   "source": [
    "### CR"
   ]
  },
  {
   "cell_type": "code",
   "execution_count": 2,
   "id": "627d9f31-9b04-4466-b3c8-efdd7fbb927e",
   "metadata": {},
   "outputs": [
    {
     "name": "stdout",
     "output_type": "stream",
     "text": [
      "unit:\n",
      " {'LCD': 'Å', 'PLD': 'Å', 'LFPD': 'Å', 'Density': 'g/cm3', 'ASA': 'Å2', 'GSA': 'm2/g', 'VSA': 'm2/cm3', 'NASA': 'Å2', 'NGSA': 'm2/g', 'NVSA': 'm2/cm3', 'PV': 'Å3', 'GPV': 'cm3/g', 'NPV': 'Å3', 'NGPV': 'cm3/g', 'AtomicMass': 'amu', 'HeatCapacity': 'J/g/K', 'Stability_Thermal': '℃', 'Widom': 'mmol/g/Pa', 'GEMC': 'Molecules/Supercell'}\n"
     ]
    }
   ],
   "source": [
    "data = information(\"CR-ASR\", \"2020[Cu][sql]2[ASR]1\")"
   ]
  },
  {
   "cell_type": "code",
   "execution_count": 3,
   "id": "f7404c50-b222-438d-8a12-0f6ee323667b",
   "metadata": {},
   "outputs": [
    {
     "data": {
      "text/plain": [
       "dict_keys(['refcode', 'name', 'mofid', 'LCD', 'PLD', 'LFPD', 'Density', 'ASA', 'GSA', 'VSA', 'NASA', 'NGSA', 'NVSA', 'PV', 'VF', 'GPV', 'NPV', 'NGPV', 'Dimension', 'Topology', 'SpaceGroup', 'Metal', 'hasOMS', 'TypeOMS', 'Charge', 'AtomicMass', 'HeatCapacity', 'NAtoms', 'Source', 'DOI', 'Year', 'Publication', 'Extension', 'Stability', 'WaterClass', 'unmodified', 'Widom', 'GEMC'])"
      ]
     },
     "execution_count": 3,
     "metadata": {},
     "output_type": "execute_result"
    }
   ],
   "source": [
    "data.keys()"
   ]
  },
  {
   "cell_type": "code",
   "execution_count": 4,
   "id": "392ae5e0-5d13-46cc-b932-eea15e76cd8d",
   "metadata": {},
   "outputs": [
    {
     "data": {
      "text/plain": [
       "5.7866"
      ]
     },
     "execution_count": 4,
     "metadata": {},
     "output_type": "execute_result"
    }
   ],
   "source": [
    "data[\"PLD\"]"
   ]
  },
  {
   "cell_type": "markdown",
   "id": "3e53c1a8-f1bd-49be-8151-4cffde4cdc8e",
   "metadata": {},
   "source": [
    "GEMC data by Adsorption Information File (AIF) format"
   ]
  },
  {
   "cell_type": "code",
   "execution_count": 5,
   "id": "eef7b826-d8ba-4680-a289-1f78eb18bdc6",
   "metadata": {},
   "outputs": [
    {
     "data": {
      "text/plain": [
       "['# Gibbs Ensemble Monte Carlo Simulation Software: MCCCS‒MN (Monte Carlo for Complex Chemical Systems‒Minnesota)\\n',\n",
       " '# Setting: cutoff=9 Å, simulation cycles: 5E3 + 1.5E4 + 2.5E4\\n',\n",
       " 'data_aif\\n',\n",
       " \"_adsnt_material_id '2020[Cu][sql]2[ASR]1'\\n\",\n",
       " '_exptl_temperature 298\\n',\n",
       " '_simltn_code ASR_0_GEMC_Completed\\n',\n",
       " '_simltn_date 2024-11-19\\n',\n",
       " '_simltn_forcefield_adsorbent UFF4MOF\\n',\n",
       " '_simltn_forcefield_adsorptive TIP4P\\n',\n",
       " \"_simltn_size 'N of unitcells: 4.0, Volume (cm3): 4.66e-21'\\n\",\n",
       " '_units_loading Molecules/Supercell\\n',\n",
       " '_units_pressure Pa\\n',\n",
       " '_units_temperature K\\n',\n",
       " 'loop_\\n',\n",
       " '_adsorp_pressure\\n',\n",
       " '_adsorp_p0\\n',\n",
       " '_adsorp_amount\\n',\n",
       " '0.1 4540 0.0\\n',\n",
       " '1.0 4540 4e-05\\n',\n",
       " '10.0 4540 0.000488\\n',\n",
       " '100.0 4540 0.004748\\n',\n",
       " '1000.0 4540 0.04954']"
      ]
     },
     "execution_count": 5,
     "metadata": {},
     "output_type": "execute_result"
    }
   ],
   "source": [
    "data[\"GEMC\"]"
   ]
  },
  {
   "cell_type": "markdown",
   "id": "1eff5d9c-e9c2-4384-bdb2-48ce0152ae08",
   "metadata": {},
   "source": [
    "### NCR"
   ]
  },
  {
   "cell_type": "code",
   "execution_count": 6,
   "id": "db830a79-c2a7-4c25-81ca-f611126d5b25",
   "metadata": {},
   "outputs": [],
   "source": [
    "data = information(\"NCR\", \"10853_2020_5211_MOESM2_ESM_ASR_pacman\")"
   ]
  },
  {
   "cell_type": "code",
   "execution_count": 7,
   "id": "952c70b0-ff3c-4fd3-9417-f6bbecc145d8",
   "metadata": {},
   "outputs": [
    {
     "data": {
      "text/plain": [
       "{'issue': {'Chen_Manz': ['Atom overlapping', 'Over bonded carbon'],\n",
       "  'mofchecker': ['has_atomic_overlaps',\n",
       "   'has_overcoordinated_c',\n",
       "   'has_overcoordinated_n',\n",
       "   'has_overcoordinated_h']},\n",
       " 'unmodified': 'false'}"
      ]
     },
     "execution_count": 7,
     "metadata": {},
     "output_type": "execute_result"
    }
   ],
   "source": [
    "data"
   ]
  },
  {
   "cell_type": "code",
   "execution_count": null,
   "id": "8a317160-3d50-46ed-b3ac-b8d297de719b",
   "metadata": {},
   "outputs": [],
   "source": []
  }
 ],
 "metadata": {
  "kernelspec": {
   "display_name": "Python 3 (ipykernel)",
   "language": "python",
   "name": "python3"
  },
  "language_info": {
   "codemirror_mode": {
    "name": "ipython",
    "version": 3
   },
   "file_extension": ".py",
   "mimetype": "text/x-python",
   "name": "python",
   "nbconvert_exporter": "python",
   "pygments_lexer": "ipython3",
   "version": "3.9.21"
  }
 },
 "nbformat": 4,
 "nbformat_minor": 5
}
