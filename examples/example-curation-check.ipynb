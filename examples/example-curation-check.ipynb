{
 "cells": [
  {
   "cell_type": "code",
   "execution_count": 1,
   "id": "623ae6e7-e792-4695-ad6c-a03d799e370a",
   "metadata": {},
   "outputs": [],
   "source": [
    "from CoREMOF.curate import preprocess, clean, mof_check"
   ]
  },
  {
   "cell_type": "markdown",
   "id": "090240d2-4670-48fb-a513-c2f20aaac36e",
   "metadata": {},
   "source": [
    "### preprocess CIF (check multi structure, metal, carbon. make primitive cell. make P1)"
   ]
  },
  {
   "cell_type": "code",
   "execution_count": 3,
   "id": "19addf8a-9286-4d64-8a0f-bedf50e268ba",
   "metadata": {},
   "outputs": [
    {
     "name": "stdout",
     "output_type": "stream",
     "text": [
      "./CoREMOF2024DB/example/c7dt03758a2.cif with more than one crystal structures\n"
     ]
    },
    {
     "data": {
      "text/plain": [
       "<CoREMOF.curate.preprocess at 0x28943cc5df0>"
      ]
     },
     "execution_count": 3,
     "metadata": {},
     "output_type": "execute_result"
    }
   ],
   "source": [
    "preprocess(structure=\"./CoREMOF2024DB/example/c7dt03758a2.cif\", output_folder=\"CoREMOF2024DB/result_curation\")"
   ]
  },
  {
   "cell_type": "markdown",
   "id": "07410081-a0f8-4f14-a0cb-c96b369fede2",
   "metadata": {},
   "source": [
    "### remove solvent"
   ]
  },
  {
   "cell_type": "code",
   "execution_count": 5,
   "id": "1cb5e127-2f0c-4a82-bf4b-cd2d6bd2f591",
   "metadata": {},
   "outputs": [
    {
     "name": "stdout",
     "output_type": "stream",
     "text": [
      "CoREMOF2024DB/result_curation/c7dt03758a2_1.cif\n",
      "using 0.25 as skin\n",
      "ClO4 is ion\n",
      "ClO4 is ion\n",
      "ClO4 is ion\n",
      "ClO4 is ion\n",
      "ClO4 is ion\n",
      "ClO4 is ion\n",
      "ClO4 is ion\n",
      "ClO4 is ion\n",
      "FSR results for CoREMOF2024DB/result_curation/c7dt03758a2_1.cif: ['CH4O']\n",
      "using 0.25 as skin\n",
      "ClO4 is ion\n",
      "ClO4 is ion\n",
      "ClO4 is ion\n",
      "ClO4 is ion\n",
      "ClO4 is ion\n",
      "ClO4 is ion\n",
      "ClO4 is ion\n",
      "ClO4 is ion\n",
      "ASR results for CoREMOF2024DB/result_curation/c7dt03758a2_1.cif: ['CH4O']\n"
     ]
    },
    {
     "data": {
      "text/plain": [
       "<CoREMOF.curate.clean at 0x7f5689d788b0>"
      ]
     },
     "execution_count": 5,
     "metadata": {},
     "output_type": "execute_result"
    }
   ],
   "source": [
    "clean(structure=\"CoREMOF2024DB/result_curation/c7dt03758a2_1.cif\", initial_skin = 0.25, output_folder=\"CoREMOF2024DB/result_curation\", saveto=\"clean_result.csv\")"
   ]
  },
  {
   "cell_type": "markdown",
   "id": "46a1a6a8-c631-4c39-95b2-7d8a3f265ea3",
   "metadata": {},
   "source": [
    "### NCR classification"
   ]
  },
  {
   "cell_type": "code",
   "execution_count": 6,
   "id": "b5304033-ed7c-4276-bf42-f00ecfb4849c",
   "metadata": {},
   "outputs": [
    {
     "data": {
      "text/plain": [
       "<CoREMOF.curate.mof_check at 0x7f56899dc850>"
      ]
     },
     "execution_count": 6,
     "metadata": {},
     "output_type": "execute_result"
    }
   ],
   "source": [
    "mof_check(structure=\"CoREMOF2024DB/result_curation/c7dt03758a2_1.cif\", output_folder=\"CoREMOF2024DB/result_curation\")"
   ]
  },
  {
   "cell_type": "code",
   "execution_count": null,
   "id": "6927ff51-9b6c-46a2-92df-e3d378664081",
   "metadata": {},
   "outputs": [],
   "source": []
  }
 ],
 "metadata": {
  "kernelspec": {
   "display_name": "CSD",
   "language": "python",
   "name": "csd"
  },
  "language_info": {
   "codemirror_mode": {
    "name": "ipython",
    "version": 3
   },
   "file_extension": ".py",
   "mimetype": "text/x-python",
   "name": "python",
   "nbconvert_exporter": "python",
   "pygments_lexer": "ipython3",
   "version": "3.9.18"
  }
 },
 "nbformat": 4,
 "nbformat_minor": 5
}
