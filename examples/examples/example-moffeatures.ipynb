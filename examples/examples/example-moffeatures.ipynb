{
 "cells": [
  {
   "cell_type": "code",
   "execution_count": 1,
   "id": "016e71d2-5239-4c21-9f54-b550ca5d83c2",
   "metadata": {},
   "outputs": [
    {
     "name": "stdout",
     "output_type": "stream",
     "text": [
      "[juliapkg] Found dependencies: /home/sxm/miniconda3/envs/coremof_tools/lib/python3.9/site-packages/juliapkg/juliapkg.json\n",
      "[juliapkg] Found dependencies: /home/sxm/miniconda3/envs/coremof_tools/lib/python3.9/site-packages/juliacall/juliapkg.json\n",
      "[juliapkg] Locating Julia ~1.6.1, ~1.7, ~1.8, ~1.9, =1.10.0, ^1.10.3\n",
      "[juliapkg] Querying Julia versions from https://julialang-s3.julialang.org/bin/versions.json\n",
      "[juliapkg] WARNING: About to install Julia 1.11.3 to /home/sxm/miniconda3/envs/coremof_tools/julia_env/pyjuliapkg/install.\n",
      "[juliapkg]   If you use juliapkg in more than one environment, you are likely to\n",
      "[juliapkg]   have Julia installed in multiple locations. It is recommended to\n",
      "[juliapkg]   install JuliaUp (https://github.com/JuliaLang/juliaup) or Julia\n",
      "[juliapkg]   (https://julialang.org/downloads) yourself.\n",
      "[juliapkg] Downloading Julia from https://julialang-s3.julialang.org/bin/linux/x64/1.11/julia-1.11.3-linux-x86_64.tar.gz\n",
      "             downloaded 244.0 MB of 253.8 MB\n",
      "             download complete\n",
      "[juliapkg] Verifying download\n",
      "[juliapkg] Installing Julia 1.11.3 to /home/sxm/miniconda3/envs/coremof_tools/julia_env/pyjuliapkg/install\n",
      "[juliapkg] Using Julia 1.11.3 at /home/sxm/miniconda3/envs/coremof_tools/julia_env/pyjuliapkg/install/bin/julia\n",
      "[juliapkg] Using Julia project at /home/sxm/miniconda3/envs/coremof_tools/julia_env\n",
      "[juliapkg] Installing packages:\n",
      "           julia> import Pkg\n",
      "           julia> Pkg.Registry.update()\n",
      "           julia> Pkg.add([Pkg.PackageSpec(name=\"PythonCall\", uuid=\"6099a3de-0909-46bc-b1f4-468b9a2dfc0d\")])\n",
      "           julia> Pkg.resolve()\n",
      "           julia> Pkg.precompile()\n"
     ]
    },
    {
     "name": "stderr",
     "output_type": "stream",
     "text": [
      "  Installing known registries into `~/.julia`\n",
      "       Added `General` registry to ~/.julia/registries\n",
      "    Updating registry at `~/.julia/registries/General.toml`\n",
      "   Resolving package versions...\n",
      "   Installed Scratch ───────────────────── v1.2.1\n",
      "   Installed MicroMamba ────────────────── v0.1.14\n",
      "   Installed TableTraits ───────────────── v1.0.1\n",
      "   Installed Tables ────────────────────── v1.12.0\n",
      "   Installed Parsers ───────────────────── v2.8.1\n",
      "   Installed Preferences ───────────────── v1.4.3\n",
      "   Installed PythonCall ────────────────── v0.9.24\n",
      "   Installed PrecompileTools ───────────── v1.2.1\n",
      "   Installed DataValueInterfaces ───────── v1.0.0\n",
      "   Installed IteratorInterfaceExtensions ─ v1.0.0\n",
      "   Installed JLLWrappers ───────────────── v1.7.0\n",
      "   Installed OrderedCollections ────────── v1.8.0\n",
      "   Installed MacroTools ────────────────── v0.5.15\n",
      "   Installed JSON3 ─────────────────────── v1.14.1\n",
      "   Installed micromamba_jll ────────────── v1.5.8+0\n",
      "   Installed DataAPI ───────────────────── v1.16.0\n",
      "   Installed StructTypes ───────────────── v1.11.0\n",
      "   Installed Requires ──────────────────── v1.3.0\n",
      "   Installed CondaPkg ──────────────────── v0.2.24\n",
      "   Installed Pidfile ───────────────────── v1.3.0\n",
      "   Installed UnsafePointers ────────────── v1.0.0\n",
      "    Updating `~/miniconda3/envs/coremof_tools/julia_env/Project.toml`\n",
      "  [6099a3de] + PythonCall v0.9.24\n",
      "    Updating `~/miniconda3/envs/coremof_tools/julia_env/Manifest.toml`\n",
      "  [992eb4ea] + CondaPkg v0.2.24\n",
      "  [9a962f9c] + DataAPI v1.16.0\n",
      "  [e2d170a0] + DataValueInterfaces v1.0.0\n",
      "  [82899510] + IteratorInterfaceExtensions v1.0.0\n",
      "  [692b3bcd] + JLLWrappers v1.7.0\n",
      "  [0f8b85d8] + JSON3 v1.14.1\n",
      "  [1914dd2f] + MacroTools v0.5.15\n",
      "  [0b3b1443] + MicroMamba v0.1.14\n",
      "  [bac558e1] + OrderedCollections v1.8.0\n",
      "  [69de0a69] + Parsers v2.8.1\n",
      "  [fa939f87] + Pidfile v1.3.0\n",
      "  [aea7be01] + PrecompileTools v1.2.1\n",
      "  [21216c6a] + Preferences v1.4.3\n",
      "  [6099a3de] + PythonCall v0.9.24\n",
      "  [ae029012] + Requires v1.3.0\n",
      "  [6c6a2e73] + Scratch v1.2.1\n",
      "  [856f2bd8] + StructTypes v1.11.0\n",
      "  [3783bdb8] + TableTraits v1.0.1\n",
      "  [bd369af6] + Tables v1.12.0\n",
      "  [e17b2a0c] + UnsafePointers v1.0.0\n",
      "  [f8abcde7] + micromamba_jll v1.5.8+0\n",
      "  [0dad84c5] + ArgTools v1.1.2\n",
      "  [56f22d72] + Artifacts v1.11.0\n",
      "  [2a0f44e3] + Base64 v1.11.0\n",
      "  [ade2ca70] + Dates v1.11.0\n",
      "  [f43a241f] + Downloads v1.6.0\n",
      "  [7b1f6079] + FileWatching v1.11.0\n",
      "  [b77e0a4c] + InteractiveUtils v1.11.0\n",
      "  [4af54fe1] + LazyArtifacts v1.11.0\n",
      "  [b27032c2] + LibCURL v0.6.4\n",
      "  [76f85450] + LibGit2 v1.11.0\n",
      "  [8f399da3] + Libdl v1.11.0\n",
      "  [56ddb016] + Logging v1.11.0\n",
      "  [d6f4376e] + Markdown v1.11.0\n",
      "  [a63ad114] + Mmap v1.11.0\n",
      "  [ca575930] + NetworkOptions v1.2.0\n",
      "  [44cfe95a] + Pkg v1.11.0\n",
      "  [de0858da] + Printf v1.11.0\n",
      "  [9a3f8284] + Random v1.11.0\n",
      "  [ea8e919c] + SHA v0.7.0\n",
      "  [9e88b42a] + Serialization v1.11.0\n",
      "  [fa267f1f] + TOML v1.0.3\n",
      "  [a4e569a6] + Tar v1.10.0\n",
      "  [8dfed614] + Test v1.11.0\n",
      "  [cf7118a7] + UUIDs v1.11.0\n",
      "  [4ec0a83e] + Unicode v1.11.0\n",
      "  [deac9b47] + LibCURL_jll v8.6.0+0\n",
      "  [e37daf67] + LibGit2_jll v1.7.2+0\n",
      "  [29816b5a] + LibSSH2_jll v1.11.0+1\n",
      "  [c8ffd9c3] + MbedTLS_jll v2.28.6+0\n",
      "  [14a3606d] + MozillaCACerts_jll v2023.12.12\n",
      "  [83775a58] + Zlib_jll v1.2.13+1\n",
      "  [8e850ede] + nghttp2_jll v1.59.0+0\n",
      "  [3f19e933] + p7zip_jll v17.4.0+2\n",
      "Precompiling project...\n",
      "    482.0 ms  ✓ DataValueInterfaces\n",
      "    505.8 ms  ✓ IteratorInterfaceExtensions\n",
      "    545.0 ms  ✓ DataAPI\n",
      "    550.5 ms  ✓ UnsafePointers\n",
      "    631.3 ms  ✓ Scratch\n",
      "    648.7 ms  ✓ Pidfile\n",
      "    660.3 ms  ✓ Requires\n",
      "    736.6 ms  ✓ OrderedCollections\n",
      "    316.1 ms  ✓ TableTraits\n",
      "    836.5 ms  ✓ Preferences\n",
      "    925.9 ms  ✓ StructTypes\n",
      "    372.7 ms  ✓ PrecompileTools\n",
      "    386.4 ms  ✓ JLLWrappers\n",
      "    651.5 ms  ✓ Tables\n",
      "   2022.6 ms  ✓ MacroTools\n",
      "    902.9 ms  ✓ micromamba_jll\n",
      "   2221.4 ms  ✓ MicroMamba\n",
      "  12448.0 ms  ✓ Parsers\n",
      "   6217.3 ms  ✓ JSON3\n",
      "   1475.2 ms  ✓ CondaPkg\n",
      "   9231.7 ms  ✓ PythonCall\n",
      "  21 dependencies successfully precompiled in 31 seconds. 28 already precompiled.\n",
      "  1 dependency had output during precompilation:\n",
      "┌ MicroMamba\n",
      "│  Downloading artifact: micromamba\n",
      "└  \n",
      "  No Changes to `~/miniconda3/envs/coremof_tools/julia_env/Project.toml`\n",
      "  No Changes to `~/miniconda3/envs/coremof_tools/julia_env/Manifest.toml`\n"
     ]
    },
    {
     "name": "stdout",
     "output_type": "stream",
     "text": [
      "Detected IPython. Loading juliacall extension. See https://juliapy.github.io/PythonCall.jl/stable/compat/#IPython\n"
     ]
    }
   ],
   "source": [
    "from CoREMOF.calculation import mof_features"
   ]
  },
  {
   "cell_type": "markdown",
   "id": "650dc9ea-3c4c-47fd-9009-873746f15074",
   "metadata": {},
   "source": [
    "### space group"
   ]
  },
  {
   "cell_type": "code",
   "execution_count": 3,
   "id": "2da1a854-9660-4d07-b699-219eb3a66fc5",
   "metadata": {},
   "outputs": [
    {
     "name": "stdout",
     "output_type": "stream",
     "text": [
      "{'unit': 'nan', 'hall_symbol': '-C 2yc', 'space_group_number': 15, 'crystal_system': 'monoclinic'}\n"
     ]
    }
   ],
   "source": [
    "result_sg=mof_features.SpaceGroup(structure=\"CoREMOF2024DB/CR/0000[Co][nan]2[ASR]1.cif\")\n",
    "print(result_sg)"
   ]
  },
  {
   "cell_type": "markdown",
   "id": "e7d47d60-334e-43c3-a1ba-5785f78a7b2c",
   "metadata": {},
   "source": [
    "### mass"
   ]
  },
  {
   "cell_type": "code",
   "execution_count": 4,
   "id": "4a25c38e-644d-41b6-a696-1c1029cc8e66",
   "metadata": {},
   "outputs": [
    {
     "name": "stdout",
     "output_type": "stream",
     "text": [
      "{'unit': 'amu', 'total_mass': 1351.2423879999997}\n"
     ]
    }
   ],
   "source": [
    "result_m=mof_features.Mass(structure=\"CoREMOF2024DB/CR/0000[Co][nan]2[ASR]1.cif\")\n",
    "print(result_m)"
   ]
  },
  {
   "cell_type": "markdown",
   "id": "7dbf3485-0bcb-4b78-9cea-0d706c41d166",
   "metadata": {},
   "source": [
    "### volume"
   ]
  },
  {
   "cell_type": "code",
   "execution_count": 5,
   "id": "4a09c21b-6350-444e-9364-06f08fd52a35",
   "metadata": {},
   "outputs": [
    {
     "name": "stdout",
     "output_type": "stream",
     "text": [
      "{'unit': 'Å^3', 'total_volume': 2092.147931664151}\n"
     ]
    }
   ],
   "source": [
    "result_v=mof_features.Volume(structure=\"CoREMOF2024DB/CR/0000[Co][nan]2[ASR]1.cif\")\n",
    "print(result_v)"
   ]
  },
  {
   "cell_type": "markdown",
   "id": "adfd712b-3953-4c67-8a42-408876a0dd08",
   "metadata": {},
   "source": [
    "### number of atoms"
   ]
  },
  {
   "cell_type": "code",
   "execution_count": 6,
   "id": "3775170a-a657-4d2a-a173-1f33ca34a6f8",
   "metadata": {},
   "outputs": [
    {
     "name": "stdout",
     "output_type": "stream",
     "text": [
      "{'unit': 'nan', 'number_atoms': 146}\n"
     ]
    }
   ],
   "source": [
    "result_na=mof_features.n_atom(structure=\"CoREMOF2024DB/CR/0000[Co][nan]2[ASR]1.cif\")\n",
    "print(result_na)"
   ]
  },
  {
   "cell_type": "markdown",
   "id": "cfa8c996-b716-40d3-bcd2-67cdb544e3fd",
   "metadata": {},
   "source": [
    "### topology"
   ]
  },
  {
   "cell_type": "code",
   "execution_count": 7,
   "id": "957b4ab2-2e5a-4d79-80bf-7c11ee069cc2",
   "metadata": {},
   "outputs": [
    {
     "name": "stderr",
     "output_type": "stream",
     "text": [
      "    Updating registry at `~/.julia/registries/General.toml`\n",
      "   Resolving package versions...\n",
      "   Installed Inflate ─────────────────────────── v0.1.5\n",
      "   Installed Chemfiles_jll ───────────────────── v0.10.4+0\n",
      "   Installed ArnoldiMethod ───────────────────── v0.4.0\n",
      "   Installed PeriodicGraphs ──────────────────── v0.10.3\n",
      "   Installed Unitful ─────────────────────────── v1.22.0\n",
      "   Installed AtomsBase ───────────────────────── v0.5.1\n",
      "   Installed StaticArraysCore ────────────────── v1.4.3\n",
      "   Installed ProgressMeter ───────────────────── v1.10.2\n",
      "   Installed Statistics ──────────────────────── v1.11.1\n",
      "   Installed StaticArrays ────────────────────── v1.9.11\n",
      "   Installed Chemfiles ───────────────────────── v0.10.42\n",
      "   Installed DataStructures ──────────────────── v0.18.20\n",
      "   Installed Tokenize ────────────────────────── v0.5.29\n",
      "   Installed UnitfulAtomic ───────────────────── v1.0.0\n",
      "   Installed Graphs ──────────────────────────── v1.12.0\n",
      "   Installed Compat ──────────────────────────── v4.16.0\n",
      "   Installed PeriodicGraphEquilibriumPlacement ─ v0.2.2\n",
      "   Installed DocStringExtensions ─────────────── v0.9.3\n",
      "   Installed SimpleTraits ────────────────────── v0.9.4\n",
      "   Installed PeriodicTable ───────────────────── v1.2.1\n",
      "   Installed PeriodicGraphEmbeddings ─────────── v0.3.3\n",
      "   Installed TextWrap ────────────────────────── v1.0.2\n",
      "   Installed spglib_jll ──────────────────────── v2.4.0+0\n",
      "   Installed CrystalNets ─────────────────────── v0.5.0\n",
      "   Installed ArgParse ────────────────────────── v1.2.0\n",
      "    Updating `~/miniconda3/envs/coremof_tools/julia_env/Project.toml`\n",
      "  [7952bbbe] + CrystalNets v0.5.0\n",
      "    Updating `~/miniconda3/envs/coremof_tools/julia_env/Manifest.toml`\n",
      "  [c7e460c6] + ArgParse v1.2.0\n",
      "  [ec485272] + ArnoldiMethod v0.4.0\n",
      "  [a963bdd2] + AtomsBase v0.5.1\n",
      "  [46823bd8] + Chemfiles v0.10.42\n",
      "  [34da2185] + Compat v4.16.0\n",
      "  [7952bbbe] + CrystalNets v0.5.0\n",
      "  [864edb3b] + DataStructures v0.18.20\n",
      "  [ffbed154] + DocStringExtensions v0.9.3\n",
      "  [86223c79] + Graphs v1.12.0\n",
      "  [d25df0c9] + Inflate v0.1.5\n",
      "  [f305370e] + PeriodicGraphEmbeddings v0.3.3\n",
      "  [72a2d4b8] + PeriodicGraphEquilibriumPlacement v0.2.2\n",
      "  [18c5b727] + PeriodicGraphs v0.10.3\n",
      "  [7b2266bf] + PeriodicTable v1.2.1\n",
      "  [92933f4c] + ProgressMeter v1.10.2\n",
      "  [699a6c99] + SimpleTraits v0.9.4\n",
      "  [90137ffa] + StaticArrays v1.9.11\n",
      "  [1e83bf80] + StaticArraysCore v1.4.3\n",
      "  [10745b16] + Statistics v1.11.1\n",
      "  [b718987f] + TextWrap v1.0.2\n",
      "  [0796e94c] + Tokenize v0.5.29\n",
      "  [1986cc42] + Unitful v1.22.0\n",
      "  [a7773ee8] + UnitfulAtomic v1.0.0\n",
      "  [78a364fa] + Chemfiles_jll v0.10.4+0\n",
      "  [ac4a9f1e] + spglib_jll v2.4.0+0\n",
      "  [8ba89e20] + Distributed v1.11.0\n",
      "  [37e2e46d] + LinearAlgebra v1.11.0\n",
      "  [1a1011a3] + SharedArrays v1.11.0\n",
      "  [6462fe0b] + Sockets v1.11.0\n",
      "  [2f01184e] + SparseArrays v1.11.0\n",
      "  [e66e0078] + CompilerSupportLibraries_jll v1.1.1+0\n",
      "  [4536629a] + OpenBLAS_jll v0.3.27+1\n",
      "  [bea87d4a] + SuiteSparse_jll v7.7.0+0\n",
      "  [8e850b90] + libblastrampoline_jll v5.11.0+0\n",
      "Precompiling project...\n",
      "    733.5 ms  ✓ TextWrap\n",
      "    722.2 ms  ✓ StaticArraysCore\n",
      "    760.4 ms  ✓ Inflate\n",
      "    866.9 ms  ✓ Statistics\n",
      "   1050.7 ms  ✓ Compat\n",
      "   1052.5 ms  ✓ DocStringExtensions\n",
      "   1051.0 ms  ✓ Chemfiles_jll\n",
      "   1056.7 ms  ✓ spglib_jll\n",
      "   1108.3 ms  ✓ SimpleTraits\n",
      "   1173.3 ms  ✓ ProgressMeter\n",
      "    377.2 ms  ✓ Compat → CompatLinearAlgebraExt\n",
      "    696.5 ms  ✓ Statistics → SparseArraysExt\n",
      "    872.5 ms  ✓ ArgParse\n",
      "   2317.9 ms  ✓ Tokenize\n",
      "   1421.6 ms  ✓ DataStructures\n",
      "   5623.7 ms  ✓ StaticArrays\n",
      "    464.0 ms  ✓ StaticArrays → StaticArraysStatisticsExt\n",
      "    898.5 ms  ✓ ArnoldiMethod\n",
      "   2956.3 ms  ✓ Graphs\n",
      "  15255.9 ms  ✓ Unitful\n",
      "   1551.3 ms  ✓ PeriodicTable\n",
      "   1592.7 ms  ✓ UnitfulAtomic\n",
      "   1772.1 ms  ✓ AtomsBase\n",
      "   1777.1 ms  ✓ Chemfiles\n",
      "  31930.4 ms  ✓ PeriodicGraphs\n",
      "   9196.3 ms  ✓ PeriodicGraphEquilibriumPlacement\n",
      "  28204.3 ms  ✓ PeriodicGraphEmbeddings\n",
      "  79099.9 ms  ✓ CrystalNets\n",
      "  28 dependencies successfully precompiled in 150 seconds. 54 already precompiled.\n",
      "[ Warning: Guessing bonds with custom algorithm (from Chemfiles and VMD). This may take a while for big structures and may be inexact.\n",
      "[ Info: To avoid guessing bonds, use a file format that contains the bonds.\n"
     ]
    },
    {
     "name": "stdout",
     "output_type": "stream",
     "text": [
      "Export of input is enabled: saving file at /tmp/input_0000[Co][nan]2[ASR]1.vtf\n",
      "Export of subnet_AllNodes is enabled: saving file at /tmp/subnet_AllNodes_0000[Co][nan]2[ASR]1_1.vtf\n",
      "{'dimention': [2], 'topology': ['unstable 2 1 2 0 0 1 4 -1 0 1 4 0 -1 2 3 -1 -1 2 3 0 0 3 4 0 0']}\n",
      "Export of subnet_SingleNodes is enabled: saving file at /tmp/subnet_SingleNodes_0000[Co][nan]2[ASR]1_1.vtf\n"
     ]
    }
   ],
   "source": [
    "result_topo = mof_features.topology(structure=\"CoREMOF2024DB/CR/0000[Co][nan]2[ASR]1.cif\", node_type=\"single\")\n",
    "print(result_topo)"
   ]
  },
  {
   "cell_type": "markdown",
   "id": "3c7a0116-a2eb-4396-b566-3047c4ff5d25",
   "metadata": {},
   "source": [
    "### RACs"
   ]
  },
  {
   "cell_type": "code",
   "execution_count": 8,
   "id": "59ff9c6a-7bff-4d0f-8a01-67297e9be8da",
   "metadata": {
    "scrolled": true
   },
   "outputs": [
    {
     "name": "stdout",
     "output_type": "stream",
     "text": [
      "('cell vectors: ', 'alpha, beta, gamma = 77.8648, 77.8648, 63.1728')\n"
     ]
    },
    {
     "name": "stderr",
     "output_type": "stream",
     "text": [
      "==============================\n",
      "*** Open Babel Warning  in PerceiveBondOrders\n",
      "  Failed to kekulize aromatic bonds in OBMol::PerceiveBondOrders (title is 0000[Co][nan]2[ASR]1)\n",
      "\n"
     ]
    },
    {
     "name": "stdout",
     "output_type": "stream",
     "text": [
      "176 176\n",
      "{'Metal': {'D_mc-I-0-all': 0.0, 'D_mc-I-1-all': 0.0, 'D_mc-I-2-all': 0.0, 'D_mc-I-3-all': 0.0, 'D_mc-S-0-all': 0.0, 'D_mc-S-1-all': 3.06, 'D_mc-S-2-all': 5.88, 'D_mc-S-3-all': 11.4, 'D_mc-T-0-all': 0.0, 'D_mc-T-1-all': 18.0, 'D_mc-T-2-all': 36.0, 'D_mc-T-3-all': 68.0, 'D_mc-Z-0-all': 0.0, 'D_mc-Z-1-all': 120.0, 'D_mc-Z-2-all': 252.0, 'D_mc-Z-3-all': 440.0, 'D_mc-chi-0-all': 0.0, 'D_mc-chi-1-all': -6.96, 'D_mc-chi-2-all': -8.04, 'D_mc-chi-3-all': -12.0, 'f-I-0-all': 19.0, 'f-I-1-all': 36.0, 'f-I-2-all': 66.0, 'f-I-3-all': 120.0, 'f-S-0-all': 12.0774, 'f-S-1-all': 25.2, 'f-S-2-all': 47.2746, 'f-S-3-all': 69.3, 'f-T-0-all': 102.0, 'f-T-1-all': 288.0, 'f-T-2-all': 426.0, 'f-T-3-all': 360.0, 'f-Z-0-all': 1455.0, 'f-Z-1-all': 3276.0, 'f-Z-2-all': 5790.0, 'f-Z-3-all': 5040.0, 'f-chi-0-all': 137.014, 'f-chi-1-all': 254.6304, 'f-chi-2-all': 470.334, 'f-chi-3-all': 930.24, 'mc-I-0-all': 1.0, 'mc-I-1-all': 6.0, 'mc-I-2-all': 12.0, 'mc-I-3-all': 20.0, 'mc-S-0-all': 1.5876, 'mc-S-1-all': 5.67, 'mc-S-2-all': 11.6424, 'mc-S-3-all': 17.388, 'mc-T-0-all': 36.0, 'mc-T-1-all': 108.0, 'mc-T-2-all': 216.0, 'mc-T-3-all': 312.0, 'mc-Z-0-all': 729.0, 'mc-Z-1-all': 1134.0, 'mc-Z-2-all': 1944.0, 'mc-Z-3-all': 2700.0, 'mc-chi-0-all': 3.5344, 'mc-chi-1-all': 34.2912, 'mc-chi-2-all': 57.528, 'mc-chi-3-all': 93.248}, 'Linker': {'D_lc-I-0-all': 0.0, 'D_lc-I-1-all': 0.0, 'D_lc-I-2-all': 0.0, 'D_lc-I-3-all': 0.0, 'D_lc-S-0-all': 0.0, 'D_lc-S-1-all': -0.04, 'D_lc-S-2-all': 0.1867, 'D_lc-S-3-all': 0.7, 'D_lc-T-0-all': 0.0, 'D_lc-T-1-all': -2.0, 'D_lc-T-2-all': -2.6667, 'D_lc-T-3-all': -1.0, 'D_lc-Z-0-all': 0.0, 'D_lc-Z-1-all': 2.0, 'D_lc-Z-2-all': 7.3333, 'D_lc-Z-3-all': 15.0, 'D_lc-alpha-0-all': 0.0, 'D_lc-alpha-1-all': -7.8, 'D_lc-alpha-2-all': -11.0714, 'D_lc-alpha-3-all': -5.9142, 'D_lc-chi-0-all': 0.0, 'D_lc-chi-1-all': 0.98, 'D_lc-chi-2-all': 2.1933, 'D_lc-chi-3-all': 3.15, 'lc-I-0-all': 1.0, 'lc-I-1-all': 2.0, 'lc-I-2-all': 4.0, 'lc-I-3-all': 5.0, 'lc-S-0-all': 0.5625, 'lc-S-1-all': 1.155, 'lc-S-2-all': 2.11, 'lc-S-3-all': 2.2875, 'lc-T-0-all': 4.0, 'lc-T-1-all': 12.0, 'lc-T-2-all': 21.3333, 'lc-T-3-all': 22.0, 'lc-Z-0-all': 49.0, 'lc-Z-1-all': 84.0, 'lc-Z-2-all': 144.6667, 'lc-Z-3-all': 140.0, 'lc-alpha-0-all': 54.76, 'lc-alpha-1-all': 167.24, 'lc-alpha-2-all': 300.9684, 'lc-alpha-3-all': 317.5652, 'lc-chi-0-all': 9.2416, 'lc-chi-1-all': 15.504, 'lc-chi-2-all': 30.2987, 'lc-chi-3-all': 36.632, 'f-lig-I-0': 72.0, 'f-lig-I-1': 160.0, 'f-lig-I-2': 256.0, 'f-lig-I-3': 320.0, 'f-lig-S-0': 31.5016, 'f-lig-S-1': 79.5872, 'f-lig-S-2': 121.3568, 'f-lig-S-3': 138.5072, 'f-lig-T-0': 416.0, 'f-lig-T-1': 1056.0, 'f-lig-T-2': 1568.0, 'f-lig-T-3': 1768.0, 'f-lig-Z-0': 1856.0, 'f-lig-Z-1': 4512.0, 'f-lig-Z-2': 6640.0, 'f-lig-Z-3': 7112.0, 'f-lig-chi-0': 450.1928, 'f-lig-chi-1': 1037.544, 'f-lig-chi-2': 1656.184, 'f-lig-chi-3': 2011.136}, 'Function-group': {'D_func-I-0-all': 0.0, 'D_func-I-1-all': 0.0, 'D_func-I-2-all': 0.0, 'D_func-I-3-all': 0.0, 'D_func-S-0-all': 0.0, 'D_func-S-1-all': -0.04, 'D_func-S-2-all': 0.72, 'D_func-S-3-all': 0.74, 'D_func-T-0-all': 0.0, 'D_func-T-1-all': -2.0, 'D_func-T-2-all': 0.0, 'D_func-T-3-all': 1.0, 'D_func-Z-0-all': 0.0, 'D_func-Z-1-all': 2.0, 'D_func-Z-2-all': 14.0, 'D_func-Z-3-all': 13.0, 'D_func-alpha-0-all': 0.0, 'D_func-alpha-1-all': -7.8, 'D_func-alpha-2-all': -2.0142, 'D_func-alpha-3-all': 1.8858, 'D_func-chi-0-all': 0.0, 'D_func-chi-1-all': 0.98, 'D_func-chi-2-all': 2.66, 'D_func-chi-3-all': 2.17, 'func-I-0-all': 1.0, 'func-I-1-all': 2.0, 'func-I-2-all': 4.0, 'func-I-3-all': 3.0, 'func-S-0-all': 0.5625, 'func-S-1-all': 1.155, 'func-S-2-all': 1.71, 'func-S-3-all': 1.1325, 'func-T-0-all': 4.0, 'func-T-1-all': 12.0, 'func-T-2-all': 16.0, 'func-T-3-all': 10.0, 'func-Z-0-all': 49.0, 'func-Z-1-all': 84.0, 'func-Z-2-all': 98.0, 'func-Z-3-all': 56.0, 'func-alpha-0-all': 54.76, 'func-alpha-1-all': 167.24, 'func-alpha-2-all': 233.9452, 'func-alpha-3-all': 150.3252, 'func-chi-0-all': 9.2416, 'func-chi-1-all': 15.504, 'func-chi-2-all': 28.88, 'func-chi-3-all': 21.128}}\n"
     ]
    }
   ],
   "source": [
    "result_rac = mof_features.RACs(structure=\"CoREMOF2024DB/CR/0000[Co][nan]2[ASR]1.cif\")\n",
    "print(result_rac)"
   ]
  },
  {
   "cell_type": "markdown",
   "id": "37b92ebb-66db-42a3-84b8-844f543e95e3",
   "metadata": {},
   "source": [
    "### open metal type"
   ]
  },
  {
   "cell_type": "code",
   "execution_count": 9,
   "id": "fb39e0b8-2249-48f5-bbfe-8c8bb1e99f83",
   "metadata": {
    "scrolled": true
   },
   "outputs": [
    {
     "name": "stdout",
     "output_type": "stream",
     "text": [
      "Loading CIF files...\n",
      "100.0 %\n",
      "All Done.\n",
      "--------------------------------------------------\n",
      "Running OMS Analysis...\n",
      "--------------------------------------------------\n",
      "1 batch requested. \n",
      "Overwrite is set to False. \n",
      "Storing results in tmp_oms/oms_results. \n",
      "--------------------------------------------------\n",
      "\n",
      "Validating property : \"load_balancing_index\"\n",
      "Validated 100 %                                                                                                                  \n",
      "--------------------------------------------------\n",
      "Checking if results for any of the MOFs exist...\n",
      "Will not skip any MOFs\n",
      "--------------------------------------------------\n",
      "Batch 1 has 1 MOFs\n",
      "--------------------------------------------------\n"
     ]
    },
    {
     "name": "stderr",
     "output_type": "stream",
     "text": [
      "/home/sxm/miniconda3/envs/coremof_tools/lib/python3.9/site-packages/pymatgen/core/structure.py:3083: EncodingWarning: We strongly encourage explicit `encoding`, and we would use UTF-8 by default as per PEP 686\n",
      "  with zopen(filename, mode=\"rt\", errors=\"replace\") as file:\n"
     ]
    },
    {
     "name": "stdout",
     "output_type": "stream",
     "text": [
      "Batch 1 100.00 % : Analysing 0000[Co][nan]2[ASR]1                                                                                                    "
     ]
    },
    {
     "name": "stderr",
     "output_type": "stream",
     "text": [
      "/home/sxm/miniconda3/envs/coremof_tools/lib/python3.9/site-packages/pymatgen/io/cif.py:1721: FutureWarning: We strongly discourage using implicit binary/text `mode`, and this would not be allowed after 2025-06-01. I.e. you should pass t/b in `mode`.\n",
      "  with zopen(filename, mode=mode) as file:\n"
     ]
    },
    {
     "name": "stdout",
     "output_type": "stream",
     "text": [
      "Batch 1 Finished.                                                                                                                                    \n",
      "Validating property : \"has_oms\"\n",
      "Validated 100 %                                                                                                                  \n",
      "\n",
      "Analysis Finished. Time required:0.72 sec\n",
      "--------------------------------------------------\n",
      "\n",
      "Validating property : \"has_oms\"\n",
      "Validated 100 %                                                                                                                  \n",
      "\n",
      "Validating property : \"has_oms\"\n",
      "Validated 100 %                                                                                                                  \n",
      "\n",
      "Validating property : \"has_oms\"\n",
      "Validated 100 %                                                                                                                  \n",
      "{'Metal Types': 'Co', 'Has OMS': 'No', 'OMS Types': 'N/A'}\n"
     ]
    }
   ],
   "source": [
    "result_oms = mof_features.get_oms_file(structure=\"CoREMOF2024DB/CR/0000[Co][nan]2[ASR]1.cif\")\n",
    "print(result_oms)"
   ]
  },
  {
   "cell_type": "code",
   "execution_count": null,
   "id": "1ac2fdbd-aa7f-4045-9575-f28300ce4919",
   "metadata": {},
   "outputs": [],
   "source": []
  }
 ],
 "metadata": {
  "kernelspec": {
   "display_name": "Python 3 (ipykernel)",
   "language": "python",
   "name": "python3"
  },
  "language_info": {
   "codemirror_mode": {
    "name": "ipython",
    "version": 3
   },
   "file_extension": ".py",
   "mimetype": "text/x-python",
   "name": "python",
   "nbconvert_exporter": "python",
   "pygments_lexer": "ipython3",
   "version": "3.9.21"
  }
 },
 "nbformat": 4,
 "nbformat_minor": 5
}
