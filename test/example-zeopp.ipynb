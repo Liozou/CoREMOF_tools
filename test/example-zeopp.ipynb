{
 "cells": [
  {
   "cell_type": "code",
   "execution_count": 1,
   "id": "7a0896b9-e06f-482b-b48f-50edeb48aa1a",
   "metadata": {},
   "outputs": [],
   "source": [
    "from CoREMOF.calculation import Zeopp"
   ]
  },
  {
   "cell_type": "code",
   "execution_count": 3,
   "id": "87a888bb-df89-4405-a388-e75e547a4f1f",
   "metadata": {},
   "outputs": [
    {
     "name": "stdout",
     "output_type": "stream",
     "text": [
      "{'unit': 'angstrom, Å', 'LCD': 4.88768, 'PLD': 3.8223, 'LFPD': 4.88768}\n"
     ]
    }
   ],
   "source": [
    "results_pd = Zeopp.PoreDiameter(structure=\"CoREMOF2024DB/CR/0000[Co][nan]2[ASR]1.cif\", high_accuracy = True)\n",
    "print(results_pd)"
   ]
  },
  {
   "cell_type": "code",
   "execution_count": 4,
   "id": "0f6632da-4071-45c4-91c8-1f0c89585875",
   "metadata": {},
   "outputs": [
    {
     "name": "stdout",
     "output_type": "stream",
     "text": [
      "{'unit': 'Å^2, m^2/cm^3, m^2/g', 'ASA': [217.786, 1040.97, 970.619], 'NASA': [0.0, 0.0, 0.0]}\n"
     ]
    }
   ],
   "source": [
    "results_sa = Zeopp.SurfaceArea(structure=\"CoREMOF2024DB/CR/0000[Co][nan]2[ASR]1.cif\",\n",
    "                               chan_radius = 1.655,\n",
    "                               probe_radius = 1.655,\n",
    "                               num_samples = 5000,\n",
    "                               high_accuracy = True)\n",
    "print(results_sa)"
   ]
  },
  {
   "cell_type": "code",
   "execution_count": 5,
   "id": "bc2f88ef-6d60-4b07-a833-e54c878717f4",
   "metadata": {},
   "outputs": [
    {
     "name": "stdout",
     "output_type": "stream",
     "text": [
      "{'unit': 'PV: Å^3, cm^3/g; VF: nan', 'PV': [1052.35, 0.469006], 'NPV': [0.0, 0.0], 'VF': 0.503, 'NVF': 0.0}\n"
     ]
    }
   ],
   "source": [
    "results_pv = Zeopp.PoreVolume(structure=\"CoREMOF2024DB/CR/0000[Co][nan]2[ASR]1.cif\",\n",
    "                              chan_radius = 0,\n",
    "                              probe_radius = 0,\n",
    "                              num_samples = 5000,\n",
    "                              high_accuracy = True)\n",
    "print(results_pv)"
   ]
  },
  {
   "cell_type": "code",
   "execution_count": 6,
   "id": "c74cbb6d-091b-4714-a751-982f7199efe6",
   "metadata": {},
   "outputs": [
    {
     "name": "stdout",
     "output_type": "stream",
     "text": [
      "{'unit': 'nan', 'Dimention': 3}\n"
     ]
    }
   ],
   "source": [
    "results_chan = Zeopp.ChanDim(structure=\"CoREMOF2024DB/CR/0000[Co][nan]2[ASR]1.cif\",\n",
    "                             probe_radius = 0,\n",
    "                             high_accuracy = True)\n",
    "print(results_chan)"
   ]
  },
  {
   "cell_type": "code",
   "execution_count": 7,
   "id": "d0fb90b3-e011-4d2e-906d-a0b344b0f187",
   "metadata": {},
   "outputs": [
    {
     "name": "stdout",
     "output_type": "stream",
     "text": [
      "{'unit': 'nan', 'Dimention': 2, 'N_1D': 0, 'N_2D': 1, 'N_3D': 0}\n"
     ]
    }
   ],
   "source": [
    "results_strinfo = Zeopp.FrameworkDim(structure=\"CoREMOF2024DB/CR/0000[Co][nan]2[ASR]1.cif\",\n",
    "                                     high_accuracy = True)\n",
    "print(results_strinfo)"
   ]
  },
  {
   "cell_type": "code",
   "execution_count": null,
   "id": "097cf864-af1a-4058-8e21-66b162d0601e",
   "metadata": {},
   "outputs": [],
   "source": []
  }
 ],
 "metadata": {
  "kernelspec": {
   "display_name": "Python 3 (ipykernel)",
   "language": "python",
   "name": "python3"
  },
  "language_info": {
   "codemirror_mode": {
    "name": "ipython",
    "version": 3
   },
   "file_extension": ".py",
   "mimetype": "text/x-python",
   "name": "python",
   "nbconvert_exporter": "python",
   "pygments_lexer": "ipython3",
   "version": "3.9.21"
  }
 },
 "nbformat": 4,
 "nbformat_minor": 5
}
